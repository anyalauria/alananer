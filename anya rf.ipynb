{
 "cells": [
  {
   "cell_type": "code",
   "execution_count": 43,
   "metadata": {},
   "outputs": [],
   "source": [
    "import numpy as np\n",
    "import pandas as pd\n",
    "import seaborn as sns\n",
    "from matplotlib import colors\n",
    "import matplotlib.pyplot as plt\n",
    "from matplotlib.colors import Normalize\n",
    "from sklearn.pipeline import Pipeline\n",
    "from sklearn.neighbors import KNeighborsRegressor\n",
    "from sklearn.compose import ColumnTransformer\n",
    "from sklearn.decomposition import PCA\n",
    "from sklearn.preprocessing import OneHotEncoder\n",
    "from sklearn.preprocessing import OrdinalEncoder\n",
    "from sklearn.impute import SimpleImputer\n",
    "from sklearn.preprocessing import PolynomialFeatures\n",
    "from sklearn.ensemble import RandomForestRegressor\n",
    "from sklearn.model_selection import GridSearchCV\n",
    "from sklearn.model_selection import TimeSeriesSplit\n",
    "\n",
    "from sklearn.metrics import r2_score\n",
    "from sklearn.metrics import mean_squared_error"
   ]
  },
  {
   "cell_type": "code",
   "execution_count": 8,
   "metadata": {},
   "outputs": [],
   "source": [
    "traindf = pd.read_csv('alananer/datasets/observations_train.csv')\n",
    "testdf = pd.read_csv('alananer/datasets/observations_test.csv')"
   ]
  },
  {
   "cell_type": "code",
   "execution_count": 10,
   "metadata": {},
   "outputs": [],
   "source": [
    "traindf['date']=pd.to_datetime(traindf[\"date\"])\n",
    "testdf['date']=pd.to_datetime(testdf[\"date\"])"
   ]
  },
  {
   "cell_type": "markdown",
   "metadata": {},
   "source": [
    "Missing data in training set "
   ]
  },
  {
   "cell_type": "code",
   "execution_count": 11,
   "metadata": {},
   "outputs": [],
   "source": [
    "df_train = pd.DataFrame()\n",
    "week_train = pd.DataFrame()\n",
    "monthly_train = pd.DataFrame()\n",
    "daily_train_m = pd.DataFrame()\n",
    "for col in np.unique(traindf['series_id']):\n",
    "    temp = traindf[traindf['series_id']==col].set_index('date')\n",
    "    SP500 = traindf[traindf['series_id']=='SP500'].set_index('date')\n",
    "    idx = pd.date_range(min(np.unique(SP500.index)), max(np.unique(SP500.index)))\n",
    "    temp.index = pd.DatetimeIndex(temp.index)\n",
    "    temp = temp.reindex(idx, fill_value=None)\n",
    "    temp['series_id']=col\n",
    "    temp['value'] = temp['value'].interpolate(method='time')\n",
    "    df_train = df_train.append(temp)"
   ]
  },
  {
   "cell_type": "code",
   "execution_count": 12,
   "metadata": {},
   "outputs": [],
   "source": [
    "from collections import Counter\n",
    "total = np.unique(df_train['series_id'])\n",
    "res = np.unique(df_train[df_train['value'].isnull()]['series_id'])\n",
    "use_feat = list((Counter(total)-Counter(res)-Counter(['SP500'])).elements())"
   ]
  },
  {
   "cell_type": "code",
   "execution_count": 13,
   "metadata": {},
   "outputs": [],
   "source": [
    "X_train = df_train[df_train['series_id'].isin(use_feat)]\n",
    "X_train = X_train.pivot(columns='series_id')\n",
    "\n",
    "X_train.columns = X_train.columns.droplevel(0)\n",
    "X_train.reset_index(drop=True, inplace=True)\n",
    "Y_train = df_train[df_train['series_id']=='SP500']\n",
    "Y_train = Y_train.pivot(columns='series_id')\n",
    "Y_train.columns = Y_train.columns.droplevel(0)\n",
    "Y_train.reset_index(drop=True, inplace=True)"
   ]
  },
  {
   "cell_type": "code",
   "execution_count": 15,
   "metadata": {},
   "outputs": [
    {
     "data": {
      "text/plain": [
       "(2511, 20)"
      ]
     },
     "execution_count": 15,
     "metadata": {},
     "output_type": "execute_result"
    }
   ],
   "source": [
    "X_train.shape"
   ]
  },
  {
   "cell_type": "code",
   "execution_count": 17,
   "metadata": {},
   "outputs": [],
   "source": [
    "X_train_bestfeat = X_train[['BAA10Y','DEXCHUS','DEXUSEU']]"
   ]
  },
  {
   "cell_type": "code",
   "execution_count": 18,
   "metadata": {},
   "outputs": [
    {
     "data": {
      "text/html": [
       "<div>\n",
       "<style scoped>\n",
       "    .dataframe tbody tr th:only-of-type {\n",
       "        vertical-align: middle;\n",
       "    }\n",
       "\n",
       "    .dataframe tbody tr th {\n",
       "        vertical-align: top;\n",
       "    }\n",
       "\n",
       "    .dataframe thead th {\n",
       "        text-align: right;\n",
       "    }\n",
       "</style>\n",
       "<table border=\"1\" class=\"dataframe\">\n",
       "  <thead>\n",
       "    <tr style=\"text-align: right;\">\n",
       "      <th>series_id</th>\n",
       "      <th>BAA10Y</th>\n",
       "      <th>DEXCHUS</th>\n",
       "      <th>DEXUSEU</th>\n",
       "    </tr>\n",
       "  </thead>\n",
       "  <tbody>\n",
       "    <tr>\n",
       "      <th>0</th>\n",
       "      <td>2.5300</td>\n",
       "      <td>6.596500</td>\n",
       "      <td>1.3474</td>\n",
       "    </tr>\n",
       "    <tr>\n",
       "      <th>1</th>\n",
       "      <td>2.5300</td>\n",
       "      <td>6.588400</td>\n",
       "      <td>1.3494</td>\n",
       "    </tr>\n",
       "    <tr>\n",
       "      <th>2</th>\n",
       "      <td>2.5300</td>\n",
       "      <td>6.588400</td>\n",
       "      <td>1.3547</td>\n",
       "    </tr>\n",
       "    <tr>\n",
       "      <th>3</th>\n",
       "      <td>2.5600</td>\n",
       "      <td>6.585000</td>\n",
       "      <td>1.3612</td>\n",
       "    </tr>\n",
       "    <tr>\n",
       "      <th>4</th>\n",
       "      <td>2.5800</td>\n",
       "      <td>6.573100</td>\n",
       "      <td>1.3673</td>\n",
       "    </tr>\n",
       "    <tr>\n",
       "      <th>...</th>\n",
       "      <td>...</td>\n",
       "      <td>...</td>\n",
       "      <td>...</td>\n",
       "    </tr>\n",
       "    <tr>\n",
       "      <th>2506</th>\n",
       "      <td>1.7825</td>\n",
       "      <td>6.550925</td>\n",
       "      <td>1.1860</td>\n",
       "    </tr>\n",
       "    <tr>\n",
       "      <th>2507</th>\n",
       "      <td>1.7800</td>\n",
       "      <td>6.542900</td>\n",
       "      <td>1.1867</td>\n",
       "    </tr>\n",
       "    <tr>\n",
       "      <th>2508</th>\n",
       "      <td>1.7600</td>\n",
       "      <td>6.556000</td>\n",
       "      <td>1.1902</td>\n",
       "    </tr>\n",
       "    <tr>\n",
       "      <th>2509</th>\n",
       "      <td>1.7600</td>\n",
       "      <td>6.532200</td>\n",
       "      <td>1.1952</td>\n",
       "    </tr>\n",
       "    <tr>\n",
       "      <th>2510</th>\n",
       "      <td>1.7700</td>\n",
       "      <td>6.506300</td>\n",
       "      <td>1.2022</td>\n",
       "    </tr>\n",
       "  </tbody>\n",
       "</table>\n",
       "<p>2511 rows × 3 columns</p>\n",
       "</div>"
      ],
      "text/plain": [
       "series_id  BAA10Y   DEXCHUS  DEXUSEU\n",
       "0          2.5300  6.596500   1.3474\n",
       "1          2.5300  6.588400   1.3494\n",
       "2          2.5300  6.588400   1.3547\n",
       "3          2.5600  6.585000   1.3612\n",
       "4          2.5800  6.573100   1.3673\n",
       "...           ...       ...      ...\n",
       "2506       1.7825  6.550925   1.1860\n",
       "2507       1.7800  6.542900   1.1867\n",
       "2508       1.7600  6.556000   1.1902\n",
       "2509       1.7600  6.532200   1.1952\n",
       "2510       1.7700  6.506300   1.2022\n",
       "\n",
       "[2511 rows x 3 columns]"
      ]
     },
     "execution_count": 18,
     "metadata": {},
     "output_type": "execute_result"
    }
   ],
   "source": [
    "X_train_bestfeat"
   ]
  },
  {
   "cell_type": "code",
   "execution_count": 31,
   "metadata": {},
   "outputs": [],
   "source": [
    "rf =  RandomForestRegressor()\n",
    "params = [{'n_estimators':[200],'max_features':[1,2,3],}]\n",
    "tscv = TimeSeriesSplit(n_splits=2)\n",
    "clf = GridSearchCV(rf, params, cv=tscv, scoring=['r2','neg_root_mean_squared_error'], refit=False, verbose=0)"
   ]
  },
  {
   "cell_type": "code",
   "execution_count": 35,
   "metadata": {},
   "outputs": [],
   "source": [
    "rf_model = clf.fit(X_train_bestfeat,Y_train.values.ravel())"
   ]
  },
  {
   "cell_type": "code",
   "execution_count": 39,
   "metadata": {},
   "outputs": [],
   "source": [
    "pr2 = rf_model.cv_results_['params'][ np.argmin(rf_model.cv_results_['rank_test_r2'])]\n",
    "prmse = rf_model.cv_results_['params'][ np.argmin(rf_model.cv_results_['rank_test_neg_root_mean_squared_error'])]"
   ]
  },
  {
   "cell_type": "code",
   "execution_count": 41,
   "metadata": {},
   "outputs": [],
   "source": [
    "rf.set_params(**pr2)\n",
    "rf.fit(X_train_bestfeat,Y_train.values.ravel())\n",
    "\n",
    "train_r2_predictions = rf.predict(X_train_bestfeat)"
   ]
  },
  {
   "cell_type": "code",
   "execution_count": 42,
   "metadata": {},
   "outputs": [],
   "source": [
    "rf.set_params(**prmse)\n",
    "rf.fit(X_train_bestfeat,Y_train.values.ravel())\n",
    "\n",
    "train_rmse_predictions = rf.predict(X_train_bestfeat)"
   ]
  },
  {
   "cell_type": "code",
   "execution_count": 46,
   "metadata": {},
   "outputs": [
    {
     "data": {
      "text/plain": [
       "0.9995876010315907"
      ]
     },
     "execution_count": 46,
     "metadata": {},
     "output_type": "execute_result"
    }
   ],
   "source": [
    "r2_score(Y_train,train_r2_predictions)"
   ]
  },
  {
   "cell_type": "code",
   "execution_count": 49,
   "metadata": {},
   "outputs": [
    {
     "data": {
      "text/plain": [
       "8.23099228140441"
      ]
     },
     "execution_count": 49,
     "metadata": {},
     "output_type": "execute_result"
    }
   ],
   "source": [
    "mean_squared_error(Y_train,train_rmse_predictions,squared=False)"
   ]
  }
 ],
 "metadata": {
  "kernelspec": {
   "display_name": "Python 3",
   "language": "python",
   "name": "python3"
  }
 },
 "nbformat": 4,
 "nbformat_minor": 4
}
