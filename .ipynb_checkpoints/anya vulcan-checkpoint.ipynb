{
 "cells": [
  {
   "cell_type": "code",
   "execution_count": 1,
   "metadata": {},
   "outputs": [],
   "source": [
    "import numpy as np\n",
    "import pandas as pd\n",
    "import seaborn as sns\n",
    "from matplotlib import colors\n",
    "import matplotlib.pyplot as plt\n",
    "from matplotlib.colors import Normalize\n"
   ]
  },
  {
   "cell_type": "code",
   "execution_count": 9,
   "metadata": {},
   "outputs": [],
   "source": [
    "traindf = pd.read_csv('datasets/obs_train.csv')\n",
    "testdf = pd.read_csv('datasets/observations_train.csv')"
   ]
  },
  {
   "cell_type": "code",
   "execution_count": 19,
   "metadata": {},
   "outputs": [],
   "source": [
    "week_train_df = traindf[(traindf['series_id'].isin(['BUSAPPWNSAUS','BUSAPPWNSAUSYY','CBUSAPPWNSAUS','CBUSAPPWNSAUSYY','MORTGAGE15US','MORTGAGE30US','TLAACBW027NBOG','TLBACBW027NBOG']))]"
   ]
  },
  {
   "cell_type": "code",
   "execution_count": 20,
   "metadata": {},
   "outputs": [],
   "source": [
    "month_train_df = traindf[(traindf['series_id'].isin(['ASEANTOT','CUUR0000SA0R','EECTOT','FRGSHPUSM649NCIS','GVIPT50002S','GVIPT50030S','GVIPT51000S','GVIPT51100S','GVIPT51120S','GVIPT51200S','GVIPT52000S','GVIPT52100S','GVIPT521A3S','GVIPT52300S','GVIPT54000S','GVIPT54100S','GVIPT54200S','GVIPT54220S']))]"
   ]
  },
  {
   "cell_type": "code",
   "execution_count": 21,
   "metadata": {},
   "outputs": [],
   "source": [
    "daily_train_df = traindf[(traindf['series_id'].isin(['AAA10Y','BAA10Y','DEXCHUS','DEXJPUS','DEXUSEU','DEXUSUK','DFII10','DFII20','DFII30','DFII5','DFII7','DLTIIT','DPCREDIT','DPRIME','EFFR','EFFRVOL','INFECTDISEMVTRACKD','IOER','IORR','OBFR','OBFRVOL','SOFR','SOFRVOL','T10YIE','TEDRATE','WLEMUINDXD']))]"
   ]
  },
  {
   "cell_type": "code",
   "execution_count": 22,
   "metadata": {},
   "outputs": [],
   "source": [
    "daily_names = ['AAA10Y','BAA10Y','DEXCHUS','DEXJPUS','DEXUSEU','DEXUSUK','DFII10','DFII20','DFII30','DFII5','DFII7','DLTIIT','DPCREDIT','DPRIME','EFFR','EFFRVOL','INFECTDISEMVTRACKD','IOER','IORR','OBFR','OBFRVOL','SOFR','SOFRVOL','T10YIE','TEDRATE','WLEMUINDXD']"
   ]
  },
  {
   "cell_type": "code",
   "execution_count": 23,
   "metadata": {},
   "outputs": [],
   "source": [
    "monthly_names = ['ASEANTOT','CUUR0000SA0R','EECTOT','FRGSHPUSM649NCIS','GVIPT50002S','GVIPT50030S','GVIPT51000S','GVIPT51100S','GVIPT51120S','GVIPT51200S','GVIPT52000S','GVIPT52100S','GVIPT521A3S','GVIPT52300S','GVIPT54000S','GVIPT54100S','GVIPT54200S','GVIPT54220S']"
   ]
  },
  {
   "cell_type": "code",
   "execution_count": 24,
   "metadata": {},
   "outputs": [],
   "source": [
    "weekly_names = ['BUSAPPWNSAUS','BUSAPPWNSAUSYY','CBUSAPPWNSAUS','CBUSAPPWNSAUSYY','MORTGAGE15US','MORTGAGE30US','TLAACBW027NBOG','TLBACBW027NBOG']"
   ]
  },
  {
   "cell_type": "code",
   "execution_count": null,
   "metadata": {},
   "outputs": [],
   "source": []
  }
 ],
 "metadata": {
  "kernelspec": {
   "display_name": "Python 3",
   "language": "python",
   "name": "python3"
  },
  "language_info": {
   "codemirror_mode": {
    "name": "ipython",
    "version": 3
   },
   "file_extension": ".py",
   "mimetype": "text/x-python",
   "name": "python",
   "nbconvert_exporter": "python",
   "pygments_lexer": "ipython3",
   "version": "3.7.3"
  }
 },
 "nbformat": 4,
 "nbformat_minor": 4
}
